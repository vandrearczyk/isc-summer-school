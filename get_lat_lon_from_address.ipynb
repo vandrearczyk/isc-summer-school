{
 "cells": [
  {
   "cell_type": "code",
   "execution_count": 1,
   "id": "5f2e5733",
   "metadata": {},
   "outputs": [
    {
     "name": "stdout",
     "output_type": "stream",
     "text": [
      "{'place_id': 82066211, 'licence': 'Data © OpenStreetMap contributors, ODbL 1.0. http://osm.org/copyright', 'osm_type': 'node', 'osm_id': 9210069286, 'lat': '46.2274060', 'lon': '7.3645296', 'class': 'place', 'type': 'house', 'place_rank': 30, 'importance': 6.144731822685614e-05, 'addresstype': 'place', 'name': '', 'display_name': \"23, Rue de l'Industrie, Sion, Valais/Wallis, 1950, Schweiz/Suisse/Svizzera/Svizra\", 'boundingbox': ['46.2273560', '46.2274560', '7.3644796', '7.3645796']}\n",
      "7.3645296 46.2274060\n"
     ]
    }
   ],
   "source": [
    "from geopy.geocoders import Nominatim\n",
    "from pprint import pprint\n",
    "\n",
    "# Instantiate a new Nominatim client\n",
    "app = Nominatim(user_agent=\"tutorial\")\n",
    "\n",
    "# Get location raw data from the user\n",
    "your_loc = \"Rue de l'Industrie 23, 1950 Sion, Switzerland\"\n",
    "location = app.geocode(your_loc).raw\n",
    "\n",
    "# Print raw data\n",
    "print(location)\n",
    "print(location['lon'], location['lat'])\n"
   ]
  }
 ],
 "metadata": {
  "kernelspec": {
   "display_name": "venv",
   "language": "python",
   "name": "python3"
  },
  "language_info": {
   "codemirror_mode": {
    "name": "ipython",
    "version": 3
   },
   "file_extension": ".py",
   "mimetype": "text/x-python",
   "name": "python",
   "nbconvert_exporter": "python",
   "pygments_lexer": "ipython3",
   "version": "3.8.10"
  }
 },
 "nbformat": 4,
 "nbformat_minor": 5
}
